{
 "cells": [
  {
   "cell_type": "code",
   "execution_count": 3,
   "metadata": {
    "_cell_guid": "b1076dfc-b9ad-4769-8c92-a6c4dae69d19",
    "_uuid": "8f2839f25d086af736a60e9eeb907d3b93b6e0e5"
   },
   "outputs": [],
   "source": [
    "# This Python 3 environment comes with many helpful analytics libraries installed\n",
    "# It is defined by the kaggle/python docker image: https://github.com/kaggle/docker-python\n",
    "# For example, here's several helpful packages to load in \n",
    "\n",
    "import numpy as np # linear algebra\n",
    "import pandas as pd # data processing, CSV file I/O (e.g. pd.read_csv)\n",
    "\n",
    "# Input data files are available in the \"../input/\" directory.\n",
    "# For example, running this (by clicking run or pressing Shift+Enter) will list all files under the input directory\n",
    "\n",
    "# import os\n",
    "# for dirname, _, filenames in os.walk('/kaggle/input'):\n",
    "#     for filename in filenames:\n",
    "#         print(os.path.join(dirname, filename))\n",
    "\n",
    "# Any results you write to the current directory are saved as output."
   ]
  },
  {
   "cell_type": "code",
   "execution_count": 7,
   "metadata": {},
   "outputs": [],
   "source": [
    "import json\n",
    "lion = json.load(open('lion.geojson'))"
   ]
  },
  {
   "cell_type": "code",
   "execution_count": 62,
   "metadata": {},
   "outputs": [],
   "source": [
    "lion_df = pd.DataFrame(f['properties'] for f in lion['features'])"
   ]
  },
  {
   "cell_type": "code",
   "execution_count": 104,
   "metadata": {},
   "outputs": [],
   "source": [
    "lion_l = lion_df.filter(['FromLeft', 'FromRight', 'ToLeft', 'ToRight', 'SegmentID', 'StreetCode'], axis=1).copy()\n",
    "lion_r = lion_l.copy()\n",
    "lion_l['From'] = lion_l['FromLeft']\n",
    "lion_l['To'] = lion_l['ToLeft']\n",
    "lion_l['Side'] = 'L'\n",
    "lion_r['From'] = lion_r['FromRight']\n",
    "lion_r['To'] = lion_r['ToRight']\n",
    "lion_r['Side'] = 'R'\n",
    "\n",
    "lion_split = lion_l.append(lion_r)\n",
    "lion_split['Even'] = (lion_split['From'] % 2 == 0)\n",
    "lion_split = lion_split.filter(['StreetCode', 'SegmentID', 'From', 'To', 'Side', 'Even'])"
   ]
  },
  {
   "cell_type": "code",
   "execution_count": 105,
   "metadata": {},
   "outputs": [],
   "source": [
    "lion_split = lion_split.sort_values(['From', 'StreetCode', 'Even'])"
   ]
  },
  {
   "cell_type": "code",
   "execution_count": 10,
   "metadata": {
    "_cell_guid": "79c7e3d0-c299-4dcb-8224-4455121ee9b0",
    "_uuid": "d629ff2d2480ee46fbb7e2d37f6b5fab8052498a"
   },
   "outputs": [],
   "source": [
    "parking_violations = pd.read_csv('parking-violations.csv', nrows=100000, low_memory=False)"
   ]
  },
  {
   "cell_type": "code",
   "execution_count": 116,
   "metadata": {},
   "outputs": [],
   "source": [
    "CONVERT_BOROUGH = {\n",
    "    'K': 3,\n",
    "    'Q': 4,\n",
    "    'M': 1,\n",
    "    'B': 2,\n",
    "    'R': 5,\n",
    "}\n",
    "def get_full_street_code(row):\n",
    "    stc1 = int(row['Street Code1'])\n",
    "    if stc1 == 0:\n",
    "        return -1\n",
    "    if row['Violation County'] not in CONVERT_BOROUGH:\n",
    "        return -1\n",
    "    return str(stc1 + CONVERT_BOROUGH[row['Violation County']] * 100000)\n",
    "\n",
    "def addr(row):\n",
    "    addr_str = str(row['House Number'])\n",
    "    try:\n",
    "        if addr_str.find('-') >= 0:\n",
    "            above, below = addr_str.split('-')\n",
    "            addr = int(above) * 1000 + int(below)\n",
    "        elif addr_str == 'nan':\n",
    "            return -1\n",
    "        else:\n",
    "            addr = int(addr_str)\n",
    "    except ValueError:\n",
    "        # TODO: try to clean up non-numeric addresses\n",
    "        return -1\n",
    "    return addr\n",
    "\n",
    "parking_violations['StreetCode'] = parking_violations.apply(get_full_street_code, axis=1)\n",
    "parking_violations['Addr'] = parking_violations.apply(addr, axis=1)\n",
    "parking_violations['Even'] = (parking_violations['Addr'] % 2 == 0)"
   ]
  },
  {
   "cell_type": "code",
   "execution_count": 122,
   "metadata": {},
   "outputs": [
    {
     "data": {
      "text/plain": [
       "228            1\n",
       "266            1\n",
       "556            1\n",
       "557            1\n",
       "749            1\n",
       "          ...   \n",
       "97867    1943055\n",
       "26180    1945049\n",
       "22644    2331033\n",
       "95869    2989091\n",
       "8560     5720024\n",
       "Name: Addr, Length: 39266, dtype: int64"
      ]
     },
     "execution_count": 122,
     "metadata": {},
     "output_type": "execute_result"
    }
   ],
   "source": [
    "parking_violations_cleaned = parking_violations[\n",
    "    (parking_violations['Addr'] > -1) &\n",
    "    parking_violations['StreetCode'].notna()].copy().sort_values(\n",
    "    ['Addr', 'StreetCode', 'Even'])"
   ]
  },
  {
   "cell_type": "code",
   "execution_count": 125,
   "metadata": {},
   "outputs": [],
   "source": [
    "pv_merged = pd.merge_asof(\n",
    "    parking_violations_cleaned,\n",
    "    lion_split, \n",
    "    by=['StreetCode', 'Even'], \n",
    "    right_on='From', left_on='Addr')\n",
    "pv_merged = pv_merged[pv_merged['Addr'] <= pv_merged['To']]\n",
    "pv_merged"
   ]
  },
  {
   "cell_type": "code",
   "execution_count": 110,
   "metadata": {},
   "outputs": [],
   "source": [
    "import shapely.geometry\n",
    "lion_geom = {\n",
    "    f['properties']['SegmentID'] : shapely.geometry.MultiLineString(f['geometry']['coordinates'])\n",
    "    for f in lion['features']\n",
    "}"
   ]
  },
  {
   "cell_type": "code",
   "execution_count": 33,
   "metadata": {},
   "outputs": [],
   "source": [
    "from pyproj import CRS, Transformer\n",
    "wgs84 = CRS.from_epsg(4326)\n",
    "nySP = CRS.from_epsg(2263)\n",
    "transformer = Transformer.from_crs(nySP, wgs84)"
   ]
  },
  {
   "cell_type": "code",
   "execution_count": 126,
   "metadata": {},
   "outputs": [],
   "source": [
    "def find_latlng(row):\n",
    "    if row['To'] == row['From']:\n",
    "        fraction = 0\n",
    "    else:\n",
    "        fraction = (row['Addr'] - row['From']) / (row['To'] - row['From'])\n",
    "    coords = lion_geom[row['SegmentID']].interpolate(fraction, True).coords[0]\n",
    "    geom = transformer.transform(coords[0], coords[1])\n",
    "    row['Lat'] = geom[0]\n",
    "    row['Lng'] = geom[1]\n",
    "    return row\n",
    "\n",
    "pv_merged = pv_merged.apply(find_latlng, axis=1)\n",
    "\n",
    "# list(lion_df.columns)\n",
    "# will join dataset of parking violations columns Registration State, "
   ]
  },
  {
   "cell_type": "code",
   "execution_count": 127,
   "metadata": {},
   "outputs": [],
   "source": [
    "pv_merged.to_csv('latlng.csv')"
   ]
  },
  {
   "cell_type": "code",
   "execution_count": null,
   "metadata": {},
   "outputs": [],
   "source": []
  }
 ],
 "metadata": {
  "kernelspec": {
   "display_name": "Python 3",
   "language": "python",
   "name": "python3"
  },
  "language_info": {
   "codemirror_mode": {
    "name": "ipython",
    "version": 3
   },
   "file_extension": ".py",
   "mimetype": "text/x-python",
   "name": "python",
   "nbconvert_exporter": "python",
   "pygments_lexer": "ipython3",
   "version": "3.6.6"
  }
 },
 "nbformat": 4,
 "nbformat_minor": 1
}
